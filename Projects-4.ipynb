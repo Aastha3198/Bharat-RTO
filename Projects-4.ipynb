{
 "cells": [
  {
   "cell_type": "markdown",
   "id": "78cba579",
   "metadata": {},
   "source": [
    "# Project 4 - Bharat RTO Vehicle Owner search"
   ]
  },
  {
   "cell_type": "code",
   "execution_count": 2,
   "id": "8fd0ed24",
   "metadata": {},
   "outputs": [
    {
     "name": "stdout",
     "output_type": "stream",
     "text": [
      "Enter your vehicle number: RJ14TD2823\n",
      "{'timestamp': '28-09-2023 06:07:06', 'ekey': 'KiW0wKwJtcAMqIB3U6n5Gw', 'parent_ekey': None, 'product': 'car', 'user': {'pincode': None, 'phone': None, 'is_corporate': None, 'segment': None, 'name': 'RATIRAM JAT', 'email': None, 'nominee': {'name': None, 'age': None, 'nominee_relation': None}, 'gst_info': {'number': None, 'company_name': None, 'address': None}, 'uw_amazon': None, 'pan_number': None, 'experian_rank': None, 'cibil_score': None, 'age': None, 'date_of_birth': None, 'kyc': {}, 'dec': None}, 'suggested_attributes': {'aadrila_suggestions': {'suggested_pincode': '302018', 'suggested_registration_number': None, 'suggested_is_commercial': True}, 'iib_suggestions': {'suggested_last_claim_year': None}}, 'policy_attributes': {'tenure': None, 'idv': None, 'selected_idv_type': None, 'min_idv': None, 'max_idv': None, 'recommended_idv': None, 'addons': [], 'ncb': None, 'plan': {'plan_id': None, 'plan_type': None, 'plan_name': None, 'display_name': None}, 'policy_name': None, 'policy_expiry_date': None, 'policy_start_date': None, 'start_policy_tomorrow': None, 'policy_start_time': None, 'policy_issuance_workflow_id': None, 'pa': []}, 'payment_attributes': {'total_amount': None, 'payment_date': None, 'central_payment_service_order_ekey': None}, 'renewal_mandate': {'order_id': None, 'renewal_status': None, 'auto_renewal_date': None, 'mandate_id': None, 'previous_policy_gross_premium': None, 'opt_out_reason': None, 'custom_opt_out_reason': None}, 'context': {'enable_commercial': None, 'is_renewal': None, 'check_od_only': False, 'disable_previous_tp_policy': False, 'disable_policy_expired': None, 'ls_push': None, 'pi_required': None, 'quotes_count': None, 'redirect_link': None, 'created_by_advisor': False, 'origin': 'acko', 'mobile_verified': None, 'logged_in_phone': None, 'is_nominee_eligible': False, 'confirmed_lsiframe_fields': {'variant': None, 'phone': None, 'name': None, 'email': None, 'reg_number': None, 'pincode': None, 'external_cng': None, 'reg_year': None, 'reg_month': None, 'last_claim_year': None, 'odometer_range': None, 'previous_policy_expired': None, 'previous_insurer': None, 'idv': None, 'engine_number': None, 'chassis_number': None, 'plan': None, 'uw_amazon': None, 'rto': None}, 'user_verified': None, 'is_bike': False, 'payment_disabled': None, 'pan_required_min_amount': 100000.0, 'generated_offer': {'coupon_code': None, 'amount': None, 'registration_number': None}, 'registration_year_source': None, 'make_model_source': None, 'remote_source_registration_number_used': False, 'remote_source': None, 'registration_number_remote_source_consent': False}, 'vehicle': {'is_new': False, 'engine_number': '2KXXXXXXXX', 'chassis_number': 'MBXXXXXXXXXXXXXXX', 'battery_number': None, 'make_name': 'Toyota', 'model_name': 'Innova', 'variant_name': '2.5 G (Diesel) 7 Seater (2494 Cc)', 'variant_ekey': 'bRkMpNl0MfDqtuwEC6wlUw', 'car_name': 'Toyota Innova 2.5 G (Diesel) 7 Seater (2494 Cc)', 'cc': 2494, 'fuel_type': 'diesel', 'transmission': None, 'model_image_source': None, 'variant_image_source': None, 'rto_code': 'RJ-14', 'rto_display_name': None, 'registration_year': 2015, 'registration_month': 10, 'is_registration_year_masked': None, 'registration_number': 'RJ14TD2823', 'is_external_cng_kit': False, 'external_cng_kit_price': 0.0, 'is_commercial': None, 'odometer_range': None, 'purchase_info': {'purchase_year': None, 'purchase_month': None}, 'hypothecation': {'name': None, 'finance_type': None, 'is_financed': None}, 'previous_policy': {'is_expired': False, 'last_claim_year': None, 'last_claim_month': None, 'insurer_name': 'acko', 'insurer_competitor_code': None, 'policy_number': None, 'expiry_date': 1714780800000, 'policy_type': None, 'policy_type_source': None, 'tp_year': None, 'tenure': None, 'policy_status': '+30-', 'policy_expiry_date': None, 'policy_expiry_date_source': 'adrilla', 'policy_expiry_date_min': 1714780800000, 'policy_expiry_date_max': 1714780800000, 'own_damage_policy_expiry_date': None, 'own_damage_policy_expiry_date_source': None, 'third_party_policy_expiry_date': None, 'third_party_policy_expiry_date_source': None, 'claims_count': None, 'previous_policy_claim_answer': None, 'previous_ncb': None, 'previous_idv': None, 'ncb_source': None, 'net_premium': None, 'plan': None, 'detailed_plan': None, 'covers': None, 'is_tp_expired': None}, 'vehicle_type': None, 'vehicle_age': None, 'rc_data_populated': True, 'is_corporate': None, 'seating_capacity': 7, 'registration_type': None, 'manufacturing_year': None, 'invoice_date': None, 'is_invoice_date_consent': None, 'invoice_consent_date': None, 'tentative_purchase_date': None}, 'utm_source': '', 'utm_medium': None, 'utm_campaign': None, 'lead_source': None, 'last_page': None, 'proposal_status': 'initialised', 'updated_on': 1695881226000, 'created_on': 1695881226000, 'updates_allowed': ['suggested_data__aadrila_suggestions__suggested_pincode', 'suggested_data__iib_suggestions__suggested_last_claim_year', 'suggested_data__aadrila_suggestions__suggested_is_commercial', 'vehicle__registration_number', 'vehicle__is_new', 'tracker_id', 'visit_id', 'tracker_ekey', 'visit_ekey', 'lead_source', 'utm_source', 'utm_medium', 'utm_campaign', 'last_page_shown', 'created_by_advisor', 'vehicle__is_commercial', 'user__pincode', 'vehicle__variant_id', 'vehicle__variant_name', 'vehicle__model_id', 'vehicle__make_name', 'vehicle__model_name', 'vehicle__fuel_type', 'vehicle__cc', 'vehicle__seating_capacity', 'vehicle__exshowroom_price', 'vehicle__image', 'vehicle__registration_year', 'vehicle__registration_month', 'vehicle__previous_policy_expiry', 'vehicle__manufacturing_year', 'consumer_entity', 'vehicle__expiry_status', 'vehicle__previous_policy_expiry_date', 'vehicle__rc_data_populated', 'vehicle__registration_month_and_year_populated', 'vehicle__previous_policy_is_claim_made', 'vehicle__previous_policy_ncb_data_source', 'vehicle__previous_policy_ncb', 'vehicle__previous_policy_type', 'vehicle__previous_policy_type_source', 'vehicle__previous_policy_tp_year', 'vehicle__pped_source', 'vehicle__last_claim_year', 'vehicle__last_claim_month', 'vehicle__is_claim_made', 'vehicle__own_damage_pped', 'vehicle__third_party_pped', 'vehicle__previous_policy_third_party_expiry_date', 'vehicle__previous_policy_third_party_expiry_date_source', 'vehicle__previous_policy_own_damage_expiry_date', 'vehicle__previous_policy_own_damage_expiry_date_source', 'vehicle__rto_code', 'vehicle__rto_display_name', 'vehicle__engine_number', 'vehicle__chassis_number', 'vehicle__previous_insurer', 'vehicle__previous_insurer_code', 'vehicle__is_external_cng_kit', 'vehicle__external_cng_kit_price', 'state_intent', 'vehicle__previous_policy_claim_related_questions_asked', 'vehicle__previous_policy_expiry', 'user_selection_is_bike', 'vehicle__odometer_range', 'vehicle__tentative_purchase_date', 'user__phone', 'user__full_name', 'user__email_id', 'user__user_id', 'user__is_verified', 'is_pi_required', 'user__is_corporate', 'payment_disabled', 'intermediary_id', 'user_agent', 'vehicle__previous_policy_expiry_min_date', 'vehicle__previous_policy_expiry_max_date', 'vehicle__previous_policy_claims_count', 'vehicle__transmission_type', 'user__age', 'user__experian_rank', 'user__cibil_score', 'plans_policy__tp_cng_car_tenure', 'vehicle__previous_policy_od_claims_count', 'check_od_only', 'plans_policy__tenure', 'plans_policy__ncb', 'vehicle__is_registration_year_masked', 'user__date_of_birth'], 'nullables_allowed': ['vehicle__registration_number', 'vehicle__is_new', 'tracker_id', 'visit_id', 'tracker_ekey', 'visit_ekey', 'lead_source', 'utm_source', 'utm_medium', 'utm_campaign', 'last_page_shown', 'created_by_advisor', 'vehicle__is_commercial', 'user__pincode', 'vehicle__variant_id', 'vehicle__variant_name', 'vehicle__model_id', 'vehicle__make_name', 'vehicle__model_name', 'vehicle__fuel_type', 'vehicle__cc', 'vehicle__seating_capacity', 'vehicle__exshowroom_price', 'vehicle__image', 'vehicle__registration_year', 'vehicle__registration_month', 'vehicle__previous_policy_expiry', 'vehicle__expiry_status', 'vehicle__previous_policy_expiry_date', 'vehicle__previous_policy_is_claim_made', 'vehicle__previous_policy_ncb_data_source', 'vehicle__previous_policy_ncb', 'vehicle__rc_data_populated', 'vehicle__registration_month_and_year_populated', 'vehicle__pped_source', 'vehicle__last_claim_year', 'vehicle__last_claim_month', 'vehicle__is_claim_made', 'vehicle__own_damage_pped', 'vehicle__third_party_pped', 'vehicle__previous_policy_third_party_expiry_date', 'vehicle__previous_policy_third_party_expiry_date_source', 'vehicle__previous_policy_own_damage_expiry_date', 'vehicle__previous_policy_own_damage_expiry_date_source', 'vehicle__previous_policy_type', 'vehicle__previous_policy_type_source', 'vehicle__previous_policy_tp_year', 'vehicle__is_external_cng_kit', 'vehicle__external_cng_kit_price', 'vehicle__previous_policy_claim_related_questions_asked', 'vehicle__previous_policy_expiry', 'user_selection_is_bike', 'vehicle__odometer_range', 'plans_policy__policy_start_date', 'vehicle__rto_code', 'vehicle__rto_display_name', 'vehicle__engine_number', 'vehicle__chassis_number', 'user__phone', 'user__full_name', 'user__email_id', 'user__user_id', 'user__is_verified', 'is_pi_required', 'payment_disabled', 'vehicle__previous_policy_expiry_min_date', 'vehicle__previous_policy_expiry_max_date', 'vehicle__previous_policy_claims_count', 'vehicle__transmission_type', 'user__age', 'user__experian_rank', 'user__cibil_score', 'vehicle__previous_policy_od_claims_count', 'uw_discretion_version', 'plans_policy__plan_id', 'plans_policy__plan_tenure', 'plans_policy__idv', 'plans_policy__selected_idv_type', 'plans_policy__plan_type', 'plans_policy__plan_name', 'plans_policy__display_name', 'plans_policy__addon_datas', 'user__pincode', 'user__is_corporate', 'user__pan_number', 'plans_policy__pre_included_cover_datas', 'user__tan', 'user__nominee_name', 'user__nominee_age', 'user__nominee_relation', 'vehicle__previous_insurer', 'vehicle__previous_insurer_code', 'plans_policy__policy_start_date', 'plans_policy__coupon_code', 'plans_policy__whatsapp_optin', 'plans_policy__coupon_type', 'plans_policy__coupon_code_max_discount_value', 'plans_policy__tp_cng_car_tenure', 'check_od_only', 'plans_policy__tenure', 'plans_policy__ncb', 'vehicle__is_registration_year_masked', 'user__date_of_birth'], 'pending_required_fields': ['vehicle__is_commercial', 'user__pincode', 'user__phone', 'vehicle__previous_policy__claim_status', 'vehicle__previous_policy__ncb', 'vehicle__previous_policy__ncb_data_source'], 'coupon': None, 'removed_attributes': None}\n"
     ]
    }
   ],
   "source": [
    "import http.client\n",
    "import json\n",
    "import pyttsx3\n",
    "\n",
    "chd = pyttsx3.init()\n",
    "chd.say('Enter your vehicle number: ')\n",
    "chd.setProperty('rate',300)\n",
    "voices = chd.getProperty('voices')       \n",
    "chd.setProperty('voice', voices[1].id)\n",
    "chd.runAndWait()\n",
    "\n",
    "w=input(\"Enter your vehicle number: \")\n",
    "\n",
    "conn = http.client.HTTPSConnection(\"bharat-rto-vehicle-owner-search.p.rapidapi.com\")\n",
    "\n",
    "payload = \"{\\r\\n    \\\"registration_number\\\": \\\"\"+w+\"\\\",\\r\\n    \\\"origin\\\": \\\"acko\\\",\\r\\n    \\\"product\\\": \\\"car\\\",\\r\\n    \\\"is_new\\\": false\\r\\n}\"\n",
    "\n",
    "headers = {\n",
    "    'content-type': \"application/json\",\n",
    "    'X-RapidAPI-Key': \"4ff4e4ab7fmshc259bb6b8da396bp1485f7jsnc80c8d8f5c45\",\n",
    "    'X-RapidAPI-Host': \"bharat-rto-vehicle-owner-search.p.rapidapi.com\"\n",
    "}\n",
    "\n",
    "conn.request(\"POST\", \"/\", payload, headers)\n",
    "\n",
    "res = conn.getresponse()\n",
    "data = res.read()\n",
    "\n",
    "mydata=json.loads(data.decode(\"utf-8\"))\n",
    "print(mydata)"
   ]
  },
  {
   "cell_type": "code",
   "execution_count": null,
   "id": "31f5018b",
   "metadata": {},
   "outputs": [],
   "source": []
  }
 ],
 "metadata": {
  "kernelspec": {
   "display_name": "Python 3 (ipykernel)",
   "language": "python",
   "name": "python3"
  },
  "language_info": {
   "codemirror_mode": {
    "name": "ipython",
    "version": 3
   },
   "file_extension": ".py",
   "mimetype": "text/x-python",
   "name": "python",
   "nbconvert_exporter": "python",
   "pygments_lexer": "ipython3",
   "version": "3.11.4"
  }
 },
 "nbformat": 4,
 "nbformat_minor": 5
}
